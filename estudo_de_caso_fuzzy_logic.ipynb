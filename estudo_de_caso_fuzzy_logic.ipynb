{
  "nbformat": 4,
  "nbformat_minor": 0,
  "metadata": {
    "colab": {
      "name": "estudo_de_caso_fuzzy_logic.ipynb",
      "provenance": [],
      "authorship_tag": "ABX9TyM8uWW6vnroAoDvhZTjsYhP",
      "include_colab_link": true
    },
    "kernelspec": {
      "name": "python3",
      "display_name": "Python 3"
    },
    "language_info": {
      "name": "python"
    }
  },
  "cells": [
    {
      "cell_type": "markdown",
      "metadata": {
        "id": "view-in-github",
        "colab_type": "text"
      },
      "source": [
        "<a href=\"https://colab.research.google.com/github/muriloWeber/fuzzyLogicCase/blob/main/estudo_de_caso_fuzzy_logic.ipynb\" target=\"_parent\"><img src=\"https://colab.research.google.com/assets/colab-badge.svg\" alt=\"Open In Colab\"/></a>"
      ]
    },
    {
      "cell_type": "markdown",
      "source": [
        "No contexto aqui apresentado, uma empresa de alimentos deseja saber a validade real de um de seus produtos em função da temperatura e umidade relativa do ambiente de armazenamento. A validade máxima desse produto é de 60 dias se armazenado à baixa temperatura em ambiente seco.\n",
        "Para isso, você vai modelar a validade do produto com base na Temperatura (T) e Umidade Relativa (UR) do depósito. A T é um valor entre 0 e 40 ºC, a UR entre 0 e 100% e Validade de 0 a 60 dias, para ajudá-los na identificação da situação do produto que será estocado."
      ],
      "metadata": {
        "id": "6EEeU57p5t6I"
      }
    },
    {
      "cell_type": "code",
      "execution_count": 3,
      "metadata": {
        "colab": {
          "base_uri": "https://localhost:8080/"
        },
        "id": "0ot4PX-I5lvJ",
        "outputId": "506daf65-05d0-4eb3-871b-42e3f5c578e0"
      },
      "outputs": [
        {
          "output_type": "stream",
          "name": "stdout",
          "text": [
            "Collecting scikit-fuzzy\n",
            "  Downloading scikit-fuzzy-0.4.2.tar.gz (993 kB)\n",
            "\u001b[?25l\r\u001b[K     |▎                               | 10 kB 19.3 MB/s eta 0:00:01\r\u001b[K     |▋                               | 20 kB 12.7 MB/s eta 0:00:01\r\u001b[K     |█                               | 30 kB 9.6 MB/s eta 0:00:01\r\u001b[K     |█▎                              | 40 kB 8.8 MB/s eta 0:00:01\r\u001b[K     |█▋                              | 51 kB 4.3 MB/s eta 0:00:01\r\u001b[K     |██                              | 61 kB 5.0 MB/s eta 0:00:01\r\u001b[K     |██▎                             | 71 kB 5.4 MB/s eta 0:00:01\r\u001b[K     |██▋                             | 81 kB 5.7 MB/s eta 0:00:01\r\u001b[K     |███                             | 92 kB 6.3 MB/s eta 0:00:01\r\u001b[K     |███▎                            | 102 kB 4.9 MB/s eta 0:00:01\r\u001b[K     |███▋                            | 112 kB 4.9 MB/s eta 0:00:01\r\u001b[K     |████                            | 122 kB 4.9 MB/s eta 0:00:01\r\u001b[K     |████▎                           | 133 kB 4.9 MB/s eta 0:00:01\r\u001b[K     |████▋                           | 143 kB 4.9 MB/s eta 0:00:01\r\u001b[K     |█████                           | 153 kB 4.9 MB/s eta 0:00:01\r\u001b[K     |█████▎                          | 163 kB 4.9 MB/s eta 0:00:01\r\u001b[K     |█████▋                          | 174 kB 4.9 MB/s eta 0:00:01\r\u001b[K     |██████                          | 184 kB 4.9 MB/s eta 0:00:01\r\u001b[K     |██████▎                         | 194 kB 4.9 MB/s eta 0:00:01\r\u001b[K     |██████▋                         | 204 kB 4.9 MB/s eta 0:00:01\r\u001b[K     |███████                         | 215 kB 4.9 MB/s eta 0:00:01\r\u001b[K     |███████▎                        | 225 kB 4.9 MB/s eta 0:00:01\r\u001b[K     |███████▋                        | 235 kB 4.9 MB/s eta 0:00:01\r\u001b[K     |████████                        | 245 kB 4.9 MB/s eta 0:00:01\r\u001b[K     |████████▎                       | 256 kB 4.9 MB/s eta 0:00:01\r\u001b[K     |████████▋                       | 266 kB 4.9 MB/s eta 0:00:01\r\u001b[K     |█████████                       | 276 kB 4.9 MB/s eta 0:00:01\r\u001b[K     |█████████▎                      | 286 kB 4.9 MB/s eta 0:00:01\r\u001b[K     |█████████▋                      | 296 kB 4.9 MB/s eta 0:00:01\r\u001b[K     |██████████                      | 307 kB 4.9 MB/s eta 0:00:01\r\u001b[K     |██████████▏                     | 317 kB 4.9 MB/s eta 0:00:01\r\u001b[K     |██████████▌                     | 327 kB 4.9 MB/s eta 0:00:01\r\u001b[K     |██████████▉                     | 337 kB 4.9 MB/s eta 0:00:01\r\u001b[K     |███████████▏                    | 348 kB 4.9 MB/s eta 0:00:01\r\u001b[K     |███████████▌                    | 358 kB 4.9 MB/s eta 0:00:01\r\u001b[K     |███████████▉                    | 368 kB 4.9 MB/s eta 0:00:01\r\u001b[K     |████████████▏                   | 378 kB 4.9 MB/s eta 0:00:01\r\u001b[K     |████████████▌                   | 389 kB 4.9 MB/s eta 0:00:01\r\u001b[K     |████████████▉                   | 399 kB 4.9 MB/s eta 0:00:01\r\u001b[K     |█████████████▏                  | 409 kB 4.9 MB/s eta 0:00:01\r\u001b[K     |█████████████▌                  | 419 kB 4.9 MB/s eta 0:00:01\r\u001b[K     |█████████████▉                  | 430 kB 4.9 MB/s eta 0:00:01\r\u001b[K     |██████████████▏                 | 440 kB 4.9 MB/s eta 0:00:01\r\u001b[K     |██████████████▌                 | 450 kB 4.9 MB/s eta 0:00:01\r\u001b[K     |██████████████▉                 | 460 kB 4.9 MB/s eta 0:00:01\r\u001b[K     |███████████████▏                | 471 kB 4.9 MB/s eta 0:00:01\r\u001b[K     |███████████████▌                | 481 kB 4.9 MB/s eta 0:00:01\r\u001b[K     |███████████████▉                | 491 kB 4.9 MB/s eta 0:00:01\r\u001b[K     |████████████████▏               | 501 kB 4.9 MB/s eta 0:00:01\r\u001b[K     |████████████████▌               | 512 kB 4.9 MB/s eta 0:00:01\r\u001b[K     |████████████████▉               | 522 kB 4.9 MB/s eta 0:00:01\r\u001b[K     |█████████████████▏              | 532 kB 4.9 MB/s eta 0:00:01\r\u001b[K     |█████████████████▌              | 542 kB 4.9 MB/s eta 0:00:01\r\u001b[K     |█████████████████▉              | 552 kB 4.9 MB/s eta 0:00:01\r\u001b[K     |██████████████████▏             | 563 kB 4.9 MB/s eta 0:00:01\r\u001b[K     |██████████████████▌             | 573 kB 4.9 MB/s eta 0:00:01\r\u001b[K     |██████████████████▉             | 583 kB 4.9 MB/s eta 0:00:01\r\u001b[K     |███████████████████▏            | 593 kB 4.9 MB/s eta 0:00:01\r\u001b[K     |███████████████████▌            | 604 kB 4.9 MB/s eta 0:00:01\r\u001b[K     |███████████████████▉            | 614 kB 4.9 MB/s eta 0:00:01\r\u001b[K     |████████████████████            | 624 kB 4.9 MB/s eta 0:00:01\r\u001b[K     |████████████████████▍           | 634 kB 4.9 MB/s eta 0:00:01\r\u001b[K     |████████████████████▊           | 645 kB 4.9 MB/s eta 0:00:01\r\u001b[K     |█████████████████████           | 655 kB 4.9 MB/s eta 0:00:01\r\u001b[K     |█████████████████████▍          | 665 kB 4.9 MB/s eta 0:00:01\r\u001b[K     |█████████████████████▊          | 675 kB 4.9 MB/s eta 0:00:01\r\u001b[K     |██████████████████████          | 686 kB 4.9 MB/s eta 0:00:01\r\u001b[K     |██████████████████████▍         | 696 kB 4.9 MB/s eta 0:00:01\r\u001b[K     |██████████████████████▊         | 706 kB 4.9 MB/s eta 0:00:01\r\u001b[K     |███████████████████████         | 716 kB 4.9 MB/s eta 0:00:01\r\u001b[K     |███████████████████████▍        | 727 kB 4.9 MB/s eta 0:00:01\r\u001b[K     |███████████████████████▊        | 737 kB 4.9 MB/s eta 0:00:01\r\u001b[K     |████████████████████████        | 747 kB 4.9 MB/s eta 0:00:01\r\u001b[K     |████████████████████████▍       | 757 kB 4.9 MB/s eta 0:00:01\r\u001b[K     |████████████████████████▊       | 768 kB 4.9 MB/s eta 0:00:01\r\u001b[K     |█████████████████████████       | 778 kB 4.9 MB/s eta 0:00:01\r\u001b[K     |█████████████████████████▍      | 788 kB 4.9 MB/s eta 0:00:01\r\u001b[K     |█████████████████████████▊      | 798 kB 4.9 MB/s eta 0:00:01\r\u001b[K     |██████████████████████████      | 808 kB 4.9 MB/s eta 0:00:01\r\u001b[K     |██████████████████████████▍     | 819 kB 4.9 MB/s eta 0:00:01\r\u001b[K     |██████████████████████████▊     | 829 kB 4.9 MB/s eta 0:00:01\r\u001b[K     |███████████████████████████     | 839 kB 4.9 MB/s eta 0:00:01\r\u001b[K     |███████████████████████████▍    | 849 kB 4.9 MB/s eta 0:00:01\r\u001b[K     |███████████████████████████▊    | 860 kB 4.9 MB/s eta 0:00:01\r\u001b[K     |████████████████████████████    | 870 kB 4.9 MB/s eta 0:00:01\r\u001b[K     |████████████████████████████▍   | 880 kB 4.9 MB/s eta 0:00:01\r\u001b[K     |████████████████████████████▊   | 890 kB 4.9 MB/s eta 0:00:01\r\u001b[K     |█████████████████████████████   | 901 kB 4.9 MB/s eta 0:00:01\r\u001b[K     |█████████████████████████████▍  | 911 kB 4.9 MB/s eta 0:00:01\r\u001b[K     |█████████████████████████████▊  | 921 kB 4.9 MB/s eta 0:00:01\r\u001b[K     |██████████████████████████████  | 931 kB 4.9 MB/s eta 0:00:01\r\u001b[K     |██████████████████████████████▎ | 942 kB 4.9 MB/s eta 0:00:01\r\u001b[K     |██████████████████████████████▋ | 952 kB 4.9 MB/s eta 0:00:01\r\u001b[K     |███████████████████████████████ | 962 kB 4.9 MB/s eta 0:00:01\r\u001b[K     |███████████████████████████████▎| 972 kB 4.9 MB/s eta 0:00:01\r\u001b[K     |███████████████████████████████▋| 983 kB 4.9 MB/s eta 0:00:01\r\u001b[K     |████████████████████████████████| 993 kB 4.9 MB/s eta 0:00:01\r\u001b[K     |████████████████████████████████| 993 kB 4.9 MB/s \n",
            "\u001b[?25hRequirement already satisfied: numpy>=1.6.0 in /usr/local/lib/python3.7/dist-packages (from scikit-fuzzy) (1.21.6)\n",
            "Requirement already satisfied: scipy>=0.9.0 in /usr/local/lib/python3.7/dist-packages (from scikit-fuzzy) (1.4.1)\n",
            "Requirement already satisfied: networkx>=1.9.0 in /usr/local/lib/python3.7/dist-packages (from scikit-fuzzy) (2.6.3)\n",
            "Building wheels for collected packages: scikit-fuzzy\n",
            "  Building wheel for scikit-fuzzy (setup.py) ... \u001b[?25l\u001b[?25hdone\n",
            "  Created wheel for scikit-fuzzy: filename=scikit_fuzzy-0.4.2-py3-none-any.whl size=894089 sha256=1dc307583f9ce0c6a55ee86b4cd8ec67c5c813d127020f278a728d7f26d5cd68\n",
            "  Stored in directory: /root/.cache/pip/wheels/d5/74/fc/38588a3d2e3f34f74588e6daa3aa5b0a322bd6f9420a707131\n",
            "Successfully built scikit-fuzzy\n",
            "Installing collected packages: scikit-fuzzy\n",
            "Successfully installed scikit-fuzzy-0.4.2\n"
          ]
        }
      ],
      "source": [
        "# Instalação do pacote skfuzzy\n",
        "!pip install scikit-fuzzy"
      ]
    },
    {
      "cell_type": "code",
      "source": [
        "# Fuzzificação\n",
        "\n",
        "# importação dos pacotes que serão utilizados no código\n",
        "import numpy as np\n",
        "import skfuzzy as fuzz\n",
        "from skfuzzy import control as ctrl"
      ],
      "metadata": {
        "id": "iMnGVt2z6TtW"
      },
      "execution_count": 4,
      "outputs": []
    },
    {
      "cell_type": "code",
      "source": [
        "# criando as variáveis do problema\n",
        "\n",
        "temperatura = ctrl.Antecedent(np.arange(0, 41, 1), 'temperatura')\n",
        "umidade = ctrl.Antecedent(np.arange(0, 101, 1), 'umidade')\n",
        "validade = ctrl.Consequent(np.arange(0, 61, 1), 'validade')"
      ],
      "metadata": {
        "id": "VvgmJC-b6w62"
      },
      "execution_count": 5,
      "outputs": []
    },
    {
      "cell_type": "code",
      "source": [
        "# criando as funções de pertinência para a temperatura\n",
        "\n",
        "temperatura['fria'] = fuzz.trapmf(temperatura.universe, [0, 0,10, 22])\n",
        "temperatura['amena'] = fuzz.gaussmf(temperatura.universe, 22, 5)\n",
        "temperatura['quente'] = fuzz.trapmf(temperatura.universe, [25, 30, 40, 40])"
      ],
      "metadata": {
        "id": "hle4Ne-y7aLC"
      },
      "execution_count": 9,
      "outputs": []
    },
    {
      "cell_type": "code",
      "source": [
        "# criando as funções de pertinência para a umidade\n",
        "\n",
        "umidade['baixa'] = fuzz.trapmf(umidade.universe, [0, 0, 20, 60])\n",
        "umidade['média'] = fuzz.trapmf(umidade.universe, [0, 50, 60, 100])\n",
        "umidade['alta'] = fuzz.trimf(umidade.universe, [60, 100, 100])"
      ],
      "metadata": {
        "id": "09Q7p_Ub9IXJ"
      },
      "execution_count": 11,
      "outputs": []
    },
    {
      "cell_type": "code",
      "source": [
        "# Criando as funções de pertinência para a validade\n",
        "\n",
        "validade['curta'] = fuzz.trapmf(validade.universe, [0, 0, 5, 30])\n",
        "validade['aceitável'] = fuzz.trimf(validade.universe, [10, 30, 50])\n",
        "validade['longa'] = fuzz.trapmf(validade.universe, [30, 50, 60, 60])"
      ],
      "metadata": {
        "id": "aldIRbsuvzRp"
      },
      "execution_count": 12,
      "outputs": []
    },
    {
      "cell_type": "code",
      "source": [
        "# Inferência Fuzzy e Defuzzyficação\n",
        "\n",
        "# Base de Conhecimento/Regras\n",
        "\n",
        "rule1 = ctrl.Rule(temperatura['fria'] & umidade['baixa'], validade['longa'])\n",
        "rule2 = ctrl.Rule(temperatura['quente'] | umidade['alta'], validade['curta'])\n",
        "rule3 = ctrl.Rule(umidade['média'], validade['aceitável'])"
      ],
      "metadata": {
        "id": "cG9Anjw7xqZy"
      },
      "execution_count": 13,
      "outputs": []
    },
    {
      "cell_type": "code",
      "source": [
        "# Sistema Fuzzy e Simulação\n",
        "\n",
        "validade_ctrl = ctrl.ControlSystem([rule1, rule2, rule3])\n",
        "validade_simulador = ctrl.ControlSystemSimulation(validade_ctrl)"
      ],
      "metadata": {
        "id": "yAUi-1uvzU4X"
      },
      "execution_count": 14,
      "outputs": []
    }
  ]
}